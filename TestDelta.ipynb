{
 "cells": [
  {
   "cell_type": "code",
   "execution_count": 75,
   "metadata": {},
   "outputs": [],
   "source": [
    "# music parts\n",
    "PARTS = [0, 73, 146, 292, 584, 1024]\n",
    "WIDTH = 4 \n",
    "MAX_HEIGHT = 16\n",
    "FRAME_RATE_FILE = \"./Data/JSON/frameRate.json\"\n",
    "FRAME_RATE = 16384\n",
    "# BASE_RATE  = 48000 \n",
    "\n",
    "# import process is very slow\n",
    "import numpy as np\n",
    "import pandas as pd\n",
    "import seaborn as sns\n",
    "import matplotlib.pyplot as plt"
   ]
  },
  {
   "cell_type": "code",
   "execution_count": 76,
   "metadata": {},
   "outputs": [],
   "source": [
    "def GetWavFileName(filename: str):\n",
    "    lis = filename.split('.')[:-1]\n",
    "    lis.append('wav')\n",
    "    return ('.'.join(lis)).replace('FFT', 'WAV')"
   ]
  },
  {
   "cell_type": "code",
   "execution_count": 77,
   "metadata": {},
   "outputs": [],
   "source": [
    "# Calculate Neighborhood Max\n",
    "def CalculateNeighborhoodMax(arr, width):\n",
    "    assert width > 0\n",
    "    ave = []\n",
    "    for i in range(arr.shape[0]):\n",
    "        L = max(0, i - width)\n",
    "        R = min(arr.shape[0] - 1, i + width)\n",
    "\n",
    "        ave.append(arr[L : R+1].max())\n",
    "    assert len(ave) == len(arr)\n",
    "    return np.array(ave)"
   ]
  },
  {
   "cell_type": "code",
   "execution_count": 78,
   "metadata": {},
   "outputs": [],
   "source": [
    "# Calculate Neighborhood Min \n",
    "def CalculateNeighborhoodMin(arr, width):\n",
    "    assert width > 0\n",
    "    ave = []\n",
    "    for i in range(arr.shape[0]):\n",
    "        L = max(0, i - width)\n",
    "        R = min(arr.shape[0] - 1, i + width)\n",
    "\n",
    "        ave.append(arr[L : R+1].min())\n",
    "    assert len(ave) == len(arr)\n",
    "    return np.array(ave)"
   ]
  },
  {
   "cell_type": "code",
   "execution_count": 79,
   "metadata": {},
   "outputs": [],
   "source": [
    "# Calculate Neighborhood Min \n",
    "def CalculateNeighborhoodDelta(arr, width):\n",
    "    return (\n",
    "            CalculateNeighborhoodMax(arr, width) -\n",
    "            CalculateNeighborhoodMin(arr, width))"
   ]
  },
  {
   "cell_type": "code",
   "execution_count": 80,
   "metadata": {},
   "outputs": [],
   "source": [
    "# calculate the mean value of a neighborhood\n",
    "def CalculateNeighborhoodMean(arr, width):\n",
    "    assert width > 0\n",
    "    ave = []\n",
    "    for i in range(arr.shape[0]):\n",
    "        cnt = 0\n",
    "        ans = 0 # sum value of the neighborhood\n",
    "        for j in range(-width, width + 1):\n",
    "            pos = i + j\n",
    "            if 0 <= pos and pos < arr.shape[0]:\n",
    "                ans += arr[pos]\n",
    "                cnt += 1\n",
    "        ave.append(ans / cnt)\n",
    "    assert len(ave) == len(arr)\n",
    "    return np.array(ave)"
   ]
  },
  {
   "cell_type": "code",
   "execution_count": 81,
   "metadata": {},
   "outputs": [],
   "source": [
    "# calculate total mean\n",
    "def CalculateNeighborhoodTotalMean(arr, width):\n",
    "    assert width > 0\n",
    "    ave = []\n",
    "    for i in range(arr.shape[0]):\n",
    "        cnt = 0\n",
    "        ans = 0\n",
    "        for j in range(-width, width + 1):\n",
    "            pos = i + j\n",
    "            if 0 <= pos and pos < arr.shape[0]:\n",
    "                ans += arr[pos].mean()\n",
    "                cnt += 1\n",
    "        ave.append(ans / cnt)\n",
    "    assert len(ave) == len(arr)\n",
    "    return np.array(ave)"
   ]
  },
  {
   "cell_type": "code",
   "execution_count": 82,
   "metadata": {},
   "outputs": [],
   "source": [
    "# calculate std var\n",
    "def CalculateNeighborhoodVar(arr, width):\n",
    "    assert width > 0\n",
    "    std = []\n",
    "    for i in range(arr.shape[0]):\n",
    "        cnt = 0\n",
    "        ave = 0 # sum \n",
    "        var = 0 # sqr sum\n",
    "        for j in range(-width, width + 1):\n",
    "            pos = i + j\n",
    "            if 0 <= pos and pos < arr.shape[0]:\n",
    "                ave += arr[pos]\n",
    "                var += arr[pos] ** 2\n",
    "                cnt += 1\n",
    "        std.append((var/cnt - (ave/cnt)**2))\n",
    "    assert len(std) == len(arr)\n",
    "    return np.array(std)"
   ]
  },
  {
   "cell_type": "code",
   "execution_count": 83,
   "metadata": {},
   "outputs": [],
   "source": [
    "# show subplot in axID\n",
    "def ShowDataInSubPlot(aveNP, manSeq, axItem):\n",
    "    data_np = np.c_[aveNP, CalculateNeighborhoodMax(aveNP, WIDTH), \\\n",
    "            CalculateNeighborhoodDelta(aveNP, WIDTH)] \n",
    "    tags = [\"ave\", \"NbMax\", \"NbDelta\"]\n",
    "\n",
    "    data_np = np.c_[data_np, CalculateNeighborhoodMean(manSeq, WIDTH)]\n",
    "    tags.append(\"ManCut\")\n",
    "    data_df = pd.DataFrame(data=data_np, index=range(len(data_np)), columns=tags) \n",
    "    sns.lineplot(data_df, ax=axItem)"
   ]
  },
  {
   "cell_type": "code",
   "execution_count": 84,
   "metadata": {},
   "outputs": [],
   "source": [
    "import numpy as np\n",
    "\n",
    "def GenerateManSeq(slotCnt, manFile, FRAME_RATE, BASE_RATE,\\\n",
    "        HIGH_VALUE):\n",
    "    slotCnt = round(slotCnt)\n",
    "\n",
    "    manSeq = [0] * slotCnt\n",
    "    stotal = (FRAME_RATE / BASE_RATE) * slotCnt\n",
    "\n",
    "    for line in open(manFile):\n",
    "        sl = line.strip()\n",
    "        if sl == \"\" or sl[0] == \"#\":\n",
    "            continue\n",
    "        minute, second = map(int, sl.split(':'))\n",
    "        stime = minute * 60 + second\n",
    "\n",
    "        # round to an even number\n",
    "        pos = round(stime / stotal * slotCnt)\n",
    "\n",
    "        if 0 <= pos and pos < slotCnt:\n",
    "            manSeq[pos] = HIGH_VALUE\n",
    "    return np.array(manSeq)"
   ]
  },
  {
   "cell_type": "code",
   "execution_count": 85,
   "metadata": {},
   "outputs": [],
   "source": [
    "import sys\n",
    "def ShowHeatMap(fileName:str, manFile, lineWidth = 2048):\n",
    "\n",
    "    # Get BASE_RATE\n",
    "    wavFile = GetWavFileName(fileName)\n",
    "    \n",
    "    import json\n",
    "    frameRate = json.load(open(FRAME_RATE_FILE))\n",
    "    sys.stderr.write(\"[HeatMap] wavFile = %s\\n\" % wavFile)\n",
    "\n",
    "    assert frameRate.get(wavFile) is not None\n",
    "    BASE_RATE = int(frameRate[wavFile])\n",
    "    sys.stderr.write(\"[HeatMap] BASE_RATE = %d\\n\" % BASE_RATE)\n",
    "\n",
    "    # read in every line from the file\n",
    "    df=[]\n",
    "    for line in open(fileName):\n",
    "        tmp  = [float(x) for x in line.split()] [:lineWidth]\n",
    "        df.append(tmp)\n",
    "\n",
    "    manSeq = GenerateManSeq(len(df), manFile, FRAME_RATE, \\\n",
    "            BASE_RATE, (WIDTH + 1) * MAX_HEIGHT)\n",
    "\n",
    "    # take a log is reasonable because its value is really high\n",
    "    # +1 to avoid number 0\n",
    "    df = np.log(np.array(df) + 1)\n",
    "\n",
    "    # calculate the Low Freq ave map\n",
    "    aveL = []\n",
    "    for i in range(df.shape[0]):\n",
    "        aveL.append(df[i, 0:73].mean())\n",
    "    aveL = np.array(aveL)\n",
    "\n",
    "    aveL1 = CalculateNeighborhoodDelta(aveL, WIDTH)\n",
    "    aveL2 = CalculateNeighborhoodDelta(aveL1, WIDTH)\n",
    "\n",
    "    # calculate the Middle Freq ave map\n",
    "    aveH = []\n",
    "    for i in range(df.shape[0]):\n",
    "        aveH.append(np.median(df[i, 732:1024]))\n",
    "    aveH = np.array(aveH)\n",
    "\n",
    "    aveH1 = CalculateNeighborhoodDelta(aveH, WIDTH)\n",
    "    aveH2 = CalculateNeighborhoodDelta(aveH1, WIDTH)\n",
    "\n",
    "    # 二值化\n",
    "    aveMan = CalculateNeighborhoodMean(manSeq, WIDTH)\n",
    "    for i in range(len(aveMan)):\n",
    "        if aveMan[i] >= 1:\n",
    "            aveMan[i] = 1\n",
    "        else:\n",
    "            aveMan[i] = 0\n",
    "\n",
    "    return np.array([aveL, aveL1, aveL2, aveH, aveH1, aveH2]).T, np.array(aveMan)"
   ]
  },
  {
   "cell_type": "code",
   "execution_count": 86,
   "metadata": {},
   "outputs": [],
   "source": [
    "def GetData(minId = 3, maxId = 26):\n",
    "    X, y = ShowHeatMap(\"./Data/FFT/%04d.fft\" % minId, \"./Data/MAN/%04d.man\" % minId)\n",
    "    for i in range(minId + 1, maxId + 1):\n",
    "        Xnow, ynow = ShowHeatMap(\"./Data/FFT/%04d.fft\" % i, \"./Data/MAN/%04d.man\" % i)\n",
    "\n",
    "        X = np.r_[X, Xnow]\n",
    "        y = np.r_[y, ynow]\n",
    "\n",
    "    return X, y"
   ]
  },
  {
   "cell_type": "code",
   "execution_count": 87,
   "metadata": {},
   "outputs": [],
   "source": [
    "C_VALUE = 30\n",
    "GAMMA_VALUE = 0.1\n",
    "\n",
    "def GetSvm(minId, maxId):\n",
    "    X, y = GetData(minId, maxId)\n",
    "    \n",
    "    from sklearn.svm import SVC\n",
    "    svm = SVC(kernel='rbf', C=C_VALUE, gamma=GAMMA_VALUE, probability=True).fit(X, y)\n",
    "\n",
    "    return X, y, svm"
   ]
  },
  {
   "cell_type": "code",
   "execution_count": 88,
   "metadata": {},
   "outputs": [
    {
     "name": "stderr",
     "output_type": "stream",
     "text": [
      "[HeatMap] wavFile = ./Data/WAV/0003.wav\n",
      "[HeatMap] BASE_RATE = 44100\n",
      "[HeatMap] wavFile = ./Data/WAV/0004.wav\n",
      "[HeatMap] BASE_RATE = 44100\n",
      "[HeatMap] wavFile = ./Data/WAV/0005.wav\n",
      "[HeatMap] BASE_RATE = 44100\n",
      "[HeatMap] wavFile = ./Data/WAV/0006.wav\n",
      "[HeatMap] BASE_RATE = 44100\n",
      "[HeatMap] wavFile = ./Data/WAV/0007.wav\n",
      "[HeatMap] BASE_RATE = 44100\n",
      "[HeatMap] wavFile = ./Data/WAV/0008.wav\n",
      "[HeatMap] BASE_RATE = 44100\n",
      "[HeatMap] wavFile = ./Data/WAV/0009.wav\n",
      "[HeatMap] BASE_RATE = 44100\n",
      "[HeatMap] wavFile = ./Data/WAV/0010.wav\n",
      "[HeatMap] BASE_RATE = 48000\n"
     ]
    }
   ],
   "source": [
    "X, y, svm = GetSvm(3, 10)"
   ]
  },
  {
   "cell_type": "code",
   "execution_count": 89,
   "metadata": {},
   "outputs": [],
   "source": [
    "def ShowConfusionMatrix(X, y, svm):\n",
    "    y_true = y\n",
    "    y_pred = svm.predict(X)\n",
    "\n",
    "    from sklearn.metrics import confusion_matrix\n",
    "    cm = confusion_matrix(y_true, y_pred) / len(X)\n",
    "\n",
    "    import seaborn as sns\n",
    "    from matplotlib import pyplot as plt\n",
    "    sns.heatmap(data=cm, annot=True, fmt=\"f\", cmap=\"RdBu_r\")\n",
    "    plt.show()"
   ]
  },
  {
   "cell_type": "code",
   "execution_count": 90,
   "metadata": {},
   "outputs": [],
   "source": [
    "import pandas as pd\n",
    "\n",
    "def GetMode(segment, K):\n",
    "    cnt = [0] * K\n",
    "    for i in range(len(segment)):\n",
    "       cnt[segment[i]] += 1.0 / len(segment)\n",
    "    return cnt"
   ]
  },
  {
   "cell_type": "code",
   "execution_count": 91,
   "metadata": {},
   "outputs": [],
   "source": [
    "def GetKMeans(get_mfcc, K, WINDOW_LEN):\n",
    "    from sklearn.preprocessing import StandardScaler\n",
    "    data = get_mfcc.copy()\n",
    "\n",
    "    scaler = StandardScaler()\n",
    "    scaler.fit(data)\n",
    "    data_scaled = scaler.transform(data)\n",
    "\n",
    "    from sklearn.cluster import KMeans\n",
    "    kmeans = KMeans(K)\n",
    "    kmeans.fit(data_scaled)\n",
    "    mem = kmeans.labels_\n",
    "\n",
    "    mem_reduce = [0] * len(mem)\n",
    "    for i in range(len(mem_reduce)):\n",
    "        mem_reduce[i] = GetMode(mem[max(i-WINDOW_LEN, 0) : min(i + WINDOW_LEN, len(mem_reduce))], K)\n",
    "    mem_reduce = np.array(mem_reduce)\n",
    "\n",
    "    return mem_reduce"
   ]
  },
  {
   "cell_type": "code",
   "execution_count": 92,
   "metadata": {},
   "outputs": [
    {
     "name": "stderr",
     "output_type": "stream",
     "text": [
      "[HeatMap] wavFile = ./Data/WAV/0025.wav\n",
      "[HeatMap] BASE_RATE = 48000\n"
     ]
    }
   ],
   "source": [
    "X, y = GetData(25, 25)"
   ]
  },
  {
   "cell_type": "code",
   "execution_count": 93,
   "metadata": {},
   "outputs": [],
   "source": [
    "# 加载音频文件\n",
    "from scipy.io import wavfile\n",
    "\n",
    "def LoadWav(audio_file):\n",
    "    sample_rate, signal = wavfile.read(audio_file)\n",
    "    print('sample_rate:{}, len:{}'.format(sample_rate, len(signal)))\n",
    "    return sample_rate, signal"
   ]
  },
  {
   "cell_type": "code",
   "execution_count": 94,
   "metadata": {},
   "outputs": [],
   "source": [
    "import sys\n",
    "def GetFFT(music_id:str, lineWidth = 1024):\n",
    "\n",
    "    # Get BASE_RATE\n",
    "    wavFile = \"./Data/WAV/%04d.wav\" % music_id\n",
    "    fftFile = \"./Data/FFT/%04d.fft\" % music_id\n",
    "    \n",
    "    import json\n",
    "    frameRate = json.load(open(FRAME_RATE_FILE))\n",
    "    sys.stderr.write(\"[HeatMap] wavFile = %s\\n\" % wavFile)\n",
    "\n",
    "    assert frameRate.get(wavFile) is not None\n",
    "    BASE_RATE = int(frameRate[wavFile])\n",
    "    sys.stderr.write(\"[HeatMap] BASE_RATE = %d\\n\" % BASE_RATE)\n",
    "\n",
    "    # read in every line from the file\n",
    "    df=[]\n",
    "    for line in open(fftFile):\n",
    "        tmp  = [float(x) for x in line.split()] [:lineWidth]\n",
    "        df.append(tmp)\n",
    "\n",
    "    return np.array(df)"
   ]
  },
  {
   "cell_type": "code",
   "execution_count": 95,
   "metadata": {},
   "outputs": [
    {
     "name": "stderr",
     "output_type": "stream",
     "text": [
      "<ipython-input-95-a1912e3b4ef1>:8: SyntaxWarning: assertion is always true, perhaps remove parentheses?\n",
      "  assert(abs(len(preSeq) - length) <= 5, \"len(preSeq) =%d, length = %d\" % (len(preSeq), length))\n"
     ]
    }
   ],
   "source": [
    "# 生成编号数列\n",
    "\n",
    "def GetPreSeq(manSeq, length):\n",
    "    preSeq = manSeq.copy()\n",
    "    for i in range(1, len(preSeq)):\n",
    "        preSeq[i] ^= preSeq[i - 1]\n",
    "        \n",
    "    assert(abs(len(preSeq) - length) <= 5, \"len(preSeq) =%d, length = %d\" % (len(preSeq), length))\n",
    "    return preSeq[:length]"
   ]
  },
  {
   "cell_type": "code",
   "execution_count": 96,
   "metadata": {},
   "outputs": [],
   "source": [
    "def ShowMapForWav(music_id, K = 16, WINDOW_LEN = 3, ALPHA = 0.3):\n",
    "    print(\"MUSIC_ID:\", music_id)\n",
    "\n",
    "    sample_rate, signal = LoadWav(\"./Data/WAV/%04d.wav\" % music_id)\n",
    "    get_mfcc = GetFFT(music_id)\n",
    "    RATE = len(signal) / len(get_mfcc)\n",
    "\n",
    "    # 总秒数 \n",
    "    # totalTime = len(signal) // sample_rate\n",
    "\n",
    "    manSeq = GenerateManSeq(len(signal) // RATE, \"./Data/MAN/%04d.man\" % music_id, RATE, sample_rate, 1)\n",
    "    \n",
    "    get_pre = GetPreSeq(manSeq, len(get_mfcc))\n",
    "    mem_reduce = GetKMeans(get_mfcc, K, WINDOW_LEN)\n",
    "    \n",
    "    ktmp = K // 2\n",
    "    wtmp = WINDOW_LEN // 2\n",
    "    while ktmp >= 8:\n",
    "        mem_reduce = GetKMeans(mem_reduce, ktmp, 1)\n",
    "        ktmp = ktmp // 2\n",
    "        wtmp = wtmp // 2\n",
    "    \n",
    "    mem_blank = mem_reduce.copy()\n",
    "    plt.figure(figsize=(19, 5))\n",
    "\n",
    "    print(\"SHAPE:\", mem_blank.shape, len(get_pre))\n",
    "    if mem_blank.shape[0] != len(get_pre):\n",
    "        mem_blank = mem_blank[:len(get_pre),:]\n",
    "        print(\"SHAPE:\", mem_blank.shape, len(get_pre))\n",
    "    print(mem_blank)\n",
    "    # print(pd.Series(np.array(mem_blank).flatten()).value_counts())\n",
    "\n",
    "    import seaborn as sns\n",
    "    sns.heatmap(np.c_[mem_blank, get_pre].T)\n",
    "\n",
    "    # 要先保存再显示\n",
    "    plt.savefig('./Data/NEWPIC/%s.png' % music_id)\n",
    "    plt.show()\n",
    "    return mem_blank"
   ]
  },
  {
   "cell_type": "code",
   "execution_count": 97,
   "metadata": {},
   "outputs": [
    {
     "name": "stderr",
     "output_type": "stream",
     "text": [
      "[HeatMap] wavFile = ./Data/WAV/0003.wav\n",
      "[HeatMap] BASE_RATE = 44100\n"
     ]
    },
    {
     "name": "stdout",
     "output_type": "stream",
     "text": [
      "MUSIC_ID: 3\n",
      "sample_rate:44100, len:6290188\n",
      "SHAPE: (383, 8) 382\n",
      "SHAPE: (382, 8) 382\n",
      "[[0. 1. 0. ... 0. 0. 0.]\n",
      " [0. 1. 0. ... 0. 0. 0.]\n",
      " [0. 1. 0. ... 0. 0. 0.]\n",
      " ...\n",
      " [0. 1. 0. ... 0. 0. 0.]\n",
      " [0. 1. 0. ... 0. 0. 0.]\n",
      " [0. 1. 0. ... 0. 0. 0.]]\n"
     ]
    },
    {
     "data": {
      "image/png": "[encoded data removed]",
      "text/plain": [
       "<Figure size 1368x360 with 2 Axes>"
      ]
     },
     "metadata": {},
     "output_type": "display_data"
    },
    {
     "data": {
      "text/plain": [
       "array([[0., 1., 0., ..., 0., 0., 0.],\n",
       "       [0., 1., 0., ..., 0., 0., 0.],\n",
       "       [0., 1., 0., ..., 0., 0., 0.],\n",
       "       ...,\n",
       "       [0., 1., 0., ..., 0., 0., 0.],\n",
       "       [0., 1., 0., ..., 0., 0., 0.],\n",
       "       [0., 1., 0., ..., 0., 0., 0.]])"
      ]
     },
     "execution_count": 97,
     "metadata": {},
     "output_type": "execute_result"
    }
   ],
   "source": [
    "ShowMapForWav(3)"
   ]
  },
  {
   "cell_type": "code",
   "execution_count": 99,
   "metadata": {},
   "outputs": [
    {
     "data": {
      "image/png": "[encoded data removed]",
      "text/plain": [
       "<Figure size 432x288 with 2 Axes>"
      ]
     },
     "metadata": {},
     "output_type": "display_data"
    }
   ],
   "source": [
    "ShowConfusionMatrix(X, y, svm)"
   ]
  },
  {
   "cell_type": "code",
   "execution_count": null,
   "metadata": {},
   "outputs": [],
   "source": []
  }
 ],
 "metadata": {
  "kernelspec": {
   "display_name": "Python 3.6.5 ('base')",
   "language": "python",
   "name": "python3"
  },
  "language_info": {
   "codemirror_mode": {
    "name": "ipython",
    "version": 3
   },
   "file_extension": ".py",
   "mimetype": "text/x-python",
   "name": "python",
   "nbconvert_exporter": "python",
   "pygments_lexer": "ipython3",
   "version": "3.6.5"
  },
  "orig_nbformat": 4,
  "vscode": {
   "interpreter": {
    "hash": "e42634819b8c191a5d07eaf23810ff32516dd8d3875f28ec3e488928fbd3c187"
   }
  }
 },
 "nbformat": 4,
 "nbformat_minor": 2
}
