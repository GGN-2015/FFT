{
 "cells": [
  {
   "cell_type": "code",
   "execution_count": 24,
   "metadata": {},
   "outputs": [],
   "source": [
    "import json\n",
    "BLANK_DATA_FILE = \"./Data/JSON/BlankData.json\"\n",
    "\n",
    "def GetData():\n",
    "    with open(BLANK_DATA_FILE) as fp:\n",
    "        data = json.load(fp)\n",
    "    return data"
   ]
  },
  {
   "cell_type": "code",
   "execution_count": 25,
   "metadata": {},
   "outputs": [],
   "source": [
    "# 制作索引\n",
    "def GetIndex(data):\n",
    "    index = {}\n",
    "    for val in data:\n",
    "        index[(int(val['songid']), val['id'])] = val\n",
    "    return index"
   ]
  },
  {
   "cell_type": "code",
   "execution_count": 26,
   "metadata": {},
   "outputs": [],
   "source": [
    "def CheckBlankExist(index, musicId, blankId):\n",
    "    return index.get((musicId, blankId)) is not None"
   ]
  },
  {
   "cell_type": "code",
   "execution_count": 27,
   "metadata": {},
   "outputs": [],
   "source": [
    "def GetLength(index, songId, blankId):\n",
    "    if not CheckBlankExist(index, songId, blankId):\n",
    "        # 第一段的前一段和最后一段的后一段长度视为 1 (反正就是很短)\n",
    "        return 1\n",
    "    else:\n",
    "        starttime = index[(songId, blankId)]['starttime']\n",
    "        endtime   = index[(songId, blankId)]['endtime']\n",
    "        return max(endtime - starttime, 0)"
   ]
  },
  {
   "cell_type": "code",
   "execution_count": 28,
   "metadata": {},
   "outputs": [],
   "source": [
    "# 计算歌曲总长度\n",
    "MUSIC_LENGTH_CACHE = {}\n",
    "def GetTotalTimeForSong(index, songId):\n",
    "    global MUSIC_LENGTH_CACHE\n",
    "\n",
    "    # 未在缓存中，重新计算音乐总长度\n",
    "    if MUSIC_LENGTH_CACHE.get(songId) is None:\n",
    "        blankId = 0\n",
    "        ans = 0\n",
    "        while CheckBlankExist(index, songId, blankId):\n",
    "            ans     += GetLength(index, songId, blankId)\n",
    "            blankId += 1\n",
    "        MUSIC_LENGTH_CACHE[songId] = ans\n",
    "        assert ans > 0, \"ERROR WHEN CALCULATE THE LENGTH OF SONG_ID: %d\" % songId\n",
    "    \n",
    "    return MUSIC_LENGTH_CACHE[songId]"
   ]
  },
  {
   "cell_type": "code",
   "execution_count": 29,
   "metadata": {},
   "outputs": [],
   "source": [
    "def GetFeatures(index, val):\n",
    "    songId  = int(val['songid'])\n",
    "    blankId = val['id']\n",
    "\n",
    "    import math\n",
    "    # 片段长度用对数长度衡量\n",
    "    \n",
    "    lastLen  = math.log(GetLength(index, songId, blankId - 1))\n",
    "    beginPos = val['starttime'] / GetTotalTimeForSong(index, songId)\n",
    "    nowLen   = math.log(GetLength(index, songId, blankId + 0))\n",
    "    endnPos = val['endtime'] / GetTotalTimeForSong(index, songId)\n",
    "    nextLen  = math.log(GetLength(index, songId, blankId + 1))\n",
    "\n",
    "    isShort = (GetLength(index, songId, blankId + 0) < 100)\n",
    "    return [lastLen, beginPos, nowLen, endnPos, nextLen], isShort"
   ]
  },
  {
   "cell_type": "code",
   "execution_count": 30,
   "metadata": {},
   "outputs": [],
   "source": [
    "def GetDataXy(data, deleteEnd = True, SelectAll = True, musicIdMin = 3, musicIdMax = 26):\n",
    "    X_all = []\n",
    "    y_all = []\n",
    "\n",
    "    # 制作索引\n",
    "    index = GetIndex(data)\n",
    "\n",
    "    for musicId in range(musicIdMin, musicIdMax + 1):\n",
    "        blankId = 0\n",
    "        while CheckBlankExist(index, musicId, blankId):\n",
    "            val = index[(musicId, blankId)]\n",
    "            blankId += 1\n",
    "\n",
    "            # 不要将最后一列加入到训练集合中\n",
    "            if not deleteEnd or CheckBlankExist(index, musicId, blankId):\n",
    "                x_now, isShort = GetFeatures(index, val)\n",
    "                if not isShort or SelectAll:\n",
    "                    X_all.append(x_now)\n",
    "                    y_all.append(val['cut'])\n",
    "\n",
    "    import numpy as np\n",
    "    return np.array(X_all), np.array(y_all)"
   ]
  },
  {
   "cell_type": "code",
   "execution_count": 19,
   "metadata": {},
   "outputs": [],
   "source": [
    "def GetSvm():\n",
    "    data = GetData()\n",
    "    X, y = GetDataXy(data, deleteEnd = True)\n",
    "\n",
    "    from sklearn.svm import SVC\n",
    "    svm = SVC(kernel='rbf', C=30, gamma=0.1).fit(X, y)\n",
    "\n",
    "    return svm"
   ]
  },
  {
   "cell_type": "code",
   "execution_count": null,
   "metadata": {},
   "outputs": [],
   "source": [
    "def FitSong(songId):\n",
    "    svm = GetSvm()\n",
    "\n",
    "    "
   ]
  }
 ],
 "metadata": {
  "kernelspec": {
   "display_name": "Python 3.6.5 ('base')",
   "language": "python",
   "name": "python3"
  },
  "language_info": {
   "codemirror_mode": {
    "name": "ipython",
    "version": 3
   },
   "file_extension": ".py",
   "mimetype": "text/x-python",
   "name": "python",
   "nbconvert_exporter": "python",
   "pygments_lexer": "ipython3",
   "version": "3.6.5"
  },
  "vscode": {
   "interpreter": {
    "hash": "e42634819b8c191a5d07eaf23810ff32516dd8d3875f28ec3e488928fbd3c187"
   }
  }
 },
 "nbformat": 4,
 "nbformat_minor": 2
}
