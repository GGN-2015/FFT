{
 "cells": [
  {
   "cell_type": "code",
   "execution_count": 1,
   "metadata": {},
   "outputs": [],
   "source": [
    "import json\n",
    "BLANK_DATA_FILE = \"./Data/JSON/BlankData.json\"\n",
    "\n",
    "def GetData():\n",
    "    with open(BLANK_DATA_FILE) as fp:\n",
    "        data = json.load(fp)\n",
    "    return data"
   ]
  },
  {
   "cell_type": "code",
   "execution_count": 2,
   "metadata": {},
   "outputs": [],
   "source": [
    "# 制作索引\n",
    "def GetIndex(data):\n",
    "    index = {}\n",
    "    for val in data:\n",
    "        index[(int(val['songid']), val['id'])] = val\n",
    "    return index"
   ]
  },
  {
   "cell_type": "code",
   "execution_count": 3,
   "metadata": {},
   "outputs": [],
   "source": [
    "def CheckBlankExist(index, musicId, blankId):\n",
    "    return index.get((musicId, blankId)) is not None"
   ]
  },
  {
   "cell_type": "code",
   "execution_count": 4,
   "metadata": {},
   "outputs": [],
   "source": [
    "def GetLength(index, songId, blankId):\n",
    "    if not CheckBlankExist(index, songId, blankId):\n",
    "        # 第一段的前一段和最后一段的后一段长度视为 1 (反正就是很短)\n",
    "        return 1\n",
    "    else:\n",
    "        starttime = index[(songId, blankId)]['starttime']\n",
    "        endtime   = index[(songId, blankId)]['endtime']\n",
    "        return max(endtime - starttime, 0)"
   ]
  },
  {
   "cell_type": "code",
   "execution_count": 5,
   "metadata": {},
   "outputs": [],
   "source": [
    "def GetEnd(index, songId, blankId):\n",
    "    if not CheckBlankExist(index, songId, blankId):\n",
    "        # 第一段的前一段和最后一段的后一段长度视为 1 (反正就是很短)\n",
    "        return 1\n",
    "    else:\n",
    "        # starttime = index[(songId, blankId)]['starttime']\n",
    "        endtime   = index[(songId, blankId)]['endtime']\n",
    "        return endtime"
   ]
  },
  {
   "cell_type": "code",
   "execution_count": 6,
   "metadata": {},
   "outputs": [],
   "source": [
    "# 计算歌曲总长度\n",
    "MUSIC_LENGTH_CACHE = {}\n",
    "def GetTotalTimeForSong(index, songId):\n",
    "    global MUSIC_LENGTH_CACHE\n",
    "\n",
    "    # 未在缓存中，重新计算音乐总长度\n",
    "    if MUSIC_LENGTH_CACHE.get(songId) is None:\n",
    "        blankId = 0\n",
    "        ans = 0\n",
    "        while CheckBlankExist(index,songId, blankId):\n",
    "            ans     = max(ans, GetEnd(index, songId, blankId))\n",
    "            blankId += 1\n",
    "        MUSIC_LENGTH_CACHE[songId] = ans\n",
    "        assert ans > 0, \"ERROR WHEN CALCULATE THE LENGTH OF SONG_ID: %d\" % songId\n",
    "    \n",
    "    return MUSIC_LENGTH_CACHE[songId]"
   ]
  },
  {
   "cell_type": "code",
   "execution_count": 7,
   "metadata": {},
   "outputs": [],
   "source": [
    "def GetFeatures(index, val):\n",
    "    songId  = int(val['songid'])\n",
    "    blankId = val['id']\n",
    "\n",
    "    import math\n",
    "    # 片段长度用对数长度衡量\n",
    "\n",
    "    totalTime = GetTotalTimeForSong(index, songId)\n",
    "    \n",
    "    lastLen  = math.log(GetLength(index, songId, blankId - 1))\n",
    "    beginPos = val['starttime'] / totalTime\n",
    "    nowLen   = math.log(GetLength(index, songId, blankId + 0))\n",
    "    endnPos = val['endtime'] / totalTime\n",
    "    nextLen  = math.log(GetLength(index, songId, blankId + 1))\n",
    "\n",
    "    isShort = (GetLength(index, songId, blankId + 0) < 100)\n",
    "    return [lastLen, beginPos, nowLen, endnPos, nextLen], isShort"
   ]
  },
  {
   "cell_type": "code",
   "execution_count": 8,
   "metadata": {},
   "outputs": [],
   "source": [
    "def GetDataXy(data, deleteEnd = True, SelectAll = True, musicIdMin = 3, musicIdMax = 26):\n",
    "    X_all = []\n",
    "    y_all = []\n",
    "\n",
    "    # 制作索引\n",
    "    index = GetIndex(data)\n",
    "\n",
    "    for musicId in range(musicIdMin, musicIdMax + 1):\n",
    "        blankId = 0\n",
    "        while CheckBlankExist(index, musicId, blankId):\n",
    "            val = index[(musicId, blankId)]\n",
    "            blankId += 1\n",
    "\n",
    "            # 不要将最后一列加入到训练集合中\n",
    "            if not deleteEnd or CheckBlankExist(index, musicId, blankId):\n",
    "                x_now, isShort = GetFeatures(index, val)\n",
    "                if not isShort or SelectAll:\n",
    "                    X_all.append(x_now)\n",
    "                    y_all.append(val['cut'])\n",
    "\n",
    "    import numpy as np\n",
    "    return np.array(X_all), np.array(y_all)"
   ]
  },
  {
   "cell_type": "code",
   "execution_count": 9,
   "metadata": {},
   "outputs": [],
   "source": [
    "def GetSvm():\n",
    "    data = GetData()\n",
    "    X, y = GetDataXy(data, deleteEnd = True)\n",
    "\n",
    "    from sklearn.svm import SVC\n",
    "    svm = SVC(kernel='rbf', C=30, gamma=0.1).fit(X, y)\n",
    "\n",
    "    return svm"
   ]
  },
  {
   "cell_type": "code",
   "execution_count": 10,
   "metadata": {},
   "outputs": [],
   "source": [
    "def GetSolveName(songid: str):\n",
    "    if type(songid) == int:\n",
    "        songid = \"%04d\" % songid\n",
    "\n",
    "    assert len(songid) == 4\n",
    "    return \"./Data/SOLVE/%s.solve.json\" % songid"
   ]
  },
  {
   "cell_type": "code",
   "execution_count": 11,
   "metadata": {},
   "outputs": [],
   "source": [
    "import math\n",
    "def GetSongFeatureBySongId(songId):\n",
    "    solveFileName = GetSolveName(songId)\n",
    "\n",
    "    with open(solveFileName) as fp:\n",
    "        solveData = json.load(fp)\n",
    "\n",
    "    totalTime = 0\n",
    "    X = []\n",
    "    for blank in solveData:\n",
    "        totalTime = max(totalTime, blank['endtime'])\n",
    "\n",
    "        beginPos = blank['starttime']\n",
    "        nowLen   = math.log(max(blank['endtime'] - blank['starttime'], 1))\n",
    "        endPos = blank['endtime']\n",
    "\n",
    "        dataNow = [ 0, beginPos, nowLen, endPos, 0] # beginPos 和 endPos 需要后期缩放\n",
    "        X.append(dataNow) # lastLen， nextLen 需要一会填充\n",
    "\n",
    "    assert totalTime > 0\n",
    "\n",
    "    for i in range(len(X)):\n",
    "        X[i][0] = 0 if i == len(X) - 1 else X[i+1][2]\n",
    "        X[i][1] /= totalTime\n",
    "        X[i][3] /= totalTime\n",
    "        X[i][4] = 0 if i == 0 else X[i-1][2]\n",
    "\n",
    "    import numpy as np\n",
    "    return np.array(X)\n"
   ]
  },
  {
   "cell_type": "code",
   "execution_count": 12,
   "metadata": {},
   "outputs": [],
   "source": [
    "def GetSongBlanksBySongId(songId):\n",
    "    solveFileName = GetSolveName(songId)\n",
    "\n",
    "    with open(solveFileName) as fp:\n",
    "        solveData = json.load(fp)\n",
    "    \n",
    "    return solveData"
   ]
  },
  {
   "cell_type": "code",
   "execution_count": 13,
   "metadata": {},
   "outputs": [],
   "source": [
    "def GetTimeFromPos(pos):\n",
    "    pos = int(pos + 0.5)\n",
    "    \n",
    "    minute = pos // 60\n",
    "    second = pos % 60\n",
    "\n",
    "    return \"%02d:%02d\" % (minute, second)"
   ]
  },
  {
   "cell_type": "code",
   "execution_count": 14,
   "metadata": {},
   "outputs": [],
   "source": [
    "def FitSong(songId: int):\n",
    "    print(\"FIT SONG %d ...\" % songId)\n",
    "    svm = GetSvm()\n",
    "\n",
    "    X = GetSongFeatureBySongId(songId)\n",
    "    blanks = GetSongBlanksBySongId(songId)\n",
    "\n",
    "    # 预测是否在右端点处分段\n",
    "    y = svm.predict(X)\n",
    "    assert len(y) == len(blanks)\n",
    "\n",
    "    for i in range(len(y)):\n",
    "        if y[i] == 1:\n",
    "            pos = max(blanks[i]['endtime'] / 200 - 0.5, 0)\n",
    "            tnow = GetTimeFromPos(pos)\n",
    "            print(tnow)\n",
    "    print(\"DONE.\")"
   ]
  },
  {
   "cell_type": "code",
   "execution_count": 17,
   "metadata": {},
   "outputs": [
    {
     "name": "stdout",
     "output_type": "stream",
     "text": [
      "FIT SONG 24 ...\n",
      "00:01\n",
      "00:13\n",
      "01:05\n",
      "01:32\n",
      "01:33\n",
      "01:45\n",
      "02:54\n",
      "04:04\n",
      "04:17\n",
      "DONE.\n"
     ]
    }
   ],
   "source": [
    "FitSong(24)"
   ]
  },
  {
   "cell_type": "code",
   "execution_count": null,
   "metadata": {},
   "outputs": [],
   "source": []
  }
 ],
 "metadata": {
  "kernelspec": {
   "display_name": "Python 3.6.5 ('base')",
   "language": "python",
   "name": "python3"
  },
  "language_info": {
   "codemirror_mode": {
    "name": "ipython",
    "version": 3
   },
   "file_extension": ".py",
   "mimetype": "text/x-python",
   "name": "python",
   "nbconvert_exporter": "python",
   "pygments_lexer": "ipython3",
   "version": "3.6.5"
  },
  "vscode": {
   "interpreter": {
    "hash": "e42634819b8c191a5d07eaf23810ff32516dd8d3875f28ec3e488928fbd3c187"
   }
  }
 },
 "nbformat": 4,
 "nbformat_minor": 2
}
