{
 "cells": [
  {
   "cell_type": "code",
   "execution_count": 4,
   "metadata": {},
   "outputs": [],
   "source": [
    "import numpy as np\n",
    "def FFT_ReadInFromFile(fileName):\n",
    "    # read in every line from the file\n",
    "    df=[]\n",
    "    for line in open(fileName):\n",
    "        tmp  = [float(x) for x in line.split()]\n",
    "        df.append(tmp)\n",
    "    return np.array(df)"
   ]
  },
  {
   "cell_type": "code",
   "execution_count": 8,
   "metadata": {},
   "outputs": [],
   "source": [
    "fft_array = FFT_ReadInFromFile(\"0022.fft\")"
   ]
  },
  {
   "cell_type": "code",
   "execution_count": 9,
   "metadata": {},
   "outputs": [],
   "source": [
    "import numpy as np\n",
    "\n",
    "def GenerateManSeq(slotCnt, manFile, FRAME_RATE, BASE_RATE,\\\n",
    "        HIGH_VALUE):\n",
    "    manSeq = [0] * slotCnt\n",
    "    stotal = (FRAME_RATE / BASE_RATE) * slotCnt\n",
    "\n",
    "    for line in open(manFile):\n",
    "        sl = line.strip()\n",
    "        if sl == \"\" or sl[0] == \"#\":\n",
    "            continue\n",
    "        minute, second = map(int, sl.split(':'))\n",
    "        stime = minute * 60 + second\n",
    "\n",
    "        # round to an even number\n",
    "        pos = round(stime / stotal * slotCnt)\n",
    "\n",
    "        if 0 <= pos and pos < slotCnt:\n",
    "            manSeq[pos] = HIGH_VALUE\n",
    "    return np.array(manSeq)"
   ]
  },
  {
   "cell_type": "code",
   "execution_count": 14,
   "metadata": {},
   "outputs": [],
   "source": [
    "man_array = GenerateManSeq(len(fft_array), \"0022.man\", 16384, 48000, 1)\n",
    "\n",
    "pre_array = man_array.copy()\n",
    "for i in range(1, len(pre_array)):\n",
    "    pre_array[i] += pre_array[i-1]"
   ]
  },
  {
   "cell_type": "code",
   "execution_count": 30,
   "metadata": {},
   "outputs": [],
   "source": [
    "X = fft_array\n",
    "y = pre_array\n",
    "\n",
    "from sklearn.model_selection import train_test_split\n",
    "X_train, X_test, y_train, y_test = train_test_split(X, y, test_size=0.5, random_state = 0)"
   ]
  },
  {
   "cell_type": "code",
   "execution_count": 31,
   "metadata": {},
   "outputs": [
    {
     "data": {
      "text/plain": [
       "KNeighborsClassifier(algorithm='auto', leaf_size=30, metric='minkowski',\n",
       "           metric_params=None, n_jobs=1, n_neighbors=5, p=2,\n",
       "           weights='uniform')"
      ]
     },
     "execution_count": 31,
     "metadata": {},
     "output_type": "execute_result"
    }
   ],
   "source": [
    "from sklearn.neighbors import KNeighborsClassifier\n",
    "clf = KNeighborsClassifier(n_neighbors=5)\n",
    "clf.fit(X_train, y_train)"
   ]
  },
  {
   "cell_type": "code",
   "execution_count": 32,
   "metadata": {},
   "outputs": [
    {
     "data": {
      "text/plain": [
       "<matplotlib.axes._subplots.AxesSubplot at 0x2140a7aa710>"
      ]
     },
     "execution_count": 32,
     "metadata": {},
     "output_type": "execute_result"
    },
    {
     "data": {
      "image/png": "[encoded data removed]",
      "text/plain": [
       "<Figure size 432x288 with 2 Axes>"
      ]
     },
     "metadata": {},
     "output_type": "display_data"
    }
   ],
   "source": [
    "mx = pre_array.max() + 1\n",
    "\n",
    "from sklearn.metrics import confusion_matrix\n",
    "import seaborn as sns\n",
    "\n",
    "y_true = y_test\n",
    "y_pred = clf.predict(X_test)\n",
    "cm = confusion_matrix(y_true,y_pred)\n",
    "\n",
    "import pandas as pd\n",
    "cm = pd.DataFrame(cm,columns=range(mx),index=range(mx))\n",
    "sns.heatmap(cm,cmap=\"YlGnBu_r\",fmt=\"d\",annot=True)"
   ]
  },
  {
   "cell_type": "code",
   "execution_count": null,
   "metadata": {},
   "outputs": [],
   "source": []
  }
 ],
 "metadata": {
  "kernelspec": {
   "display_name": "Python 3.8.10 64-bit (microsoft store)",
   "language": "python",
   "name": "python3"
  },
  "language_info": {
   "codemirror_mode": {
    "name": "ipython",
    "version": 3
   },
   "file_extension": ".py",
   "mimetype": "text/x-python",
   "name": "python",
   "nbconvert_exporter": "python",
   "pygments_lexer": "ipython3",
   "version": "3.8.10"
  },
  "vscode": {
   "interpreter": {
    "hash": "23503356b4591b150c243b8bf5f373d6b57f7db3a6221fbe8a097f600267f0d9"
   }
  }
 },
 "nbformat": 4,
 "nbformat_minor": 2
}
