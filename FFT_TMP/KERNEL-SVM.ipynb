{
 "cells": [
  {
   "cell_type": "code",
   "execution_count": 1,
   "metadata": {},
   "outputs": [
    {
     "data": {
      "text/plain": [
       "<Figure size 640x480 with 1 Axes>"
      ]
     },
     "metadata": {},
     "output_type": "display_data"
    }
   ],
   "source": [
    "from sklearn.datasets import make_blobs\n",
    "from matplotlib import pyplot as plt\n",
    "from pandas import DataFrame\n",
    "\n",
    "import mglearn\n",
    "\n",
    "# generate 2d classification dataset\n",
    "X, y = make_blobs(centers=4, random_state=8)\n",
    "\n",
    "y = y % 2\n",
    "mglearn.discrete_scatter(X[:, 0], X[:, 1], y)\n",
    "plt.xlabel(\"Feature 0\")\n",
    "plt.ylabel(\"Feature 1\")\n",
    "plt.show()"
   ]
  },
  {
   "cell_type": "code",
   "execution_count": 2,
   "metadata": {},
   "outputs": [
    {
     "data": {
      "image/png": "[encoded data removed]",
      "text/plain": [
       "<Figure size 432x288 with 1 Axes>"
      ]
     },
     "metadata": {},
     "output_type": "display_data"
    }
   ],
   "source": [
    "from sklearn.svm import SVC\n",
    "svm = SVC(kernel='rbf', C=10, gamma=0.1).fit(X, y)\n",
    "\n",
    "mglearn.plots.plot_2d_separator(svm, X)\n",
    "mglearn.discrete_scatter(X[:, 0], X[:, 1], y)\n",
    "plt.xlabel(\"Feature 0\")\n",
    "plt.ylabel(\"Feature 1\")\n",
    "plt.show()"
   ]
  },
  {
   "cell_type": "code",
   "execution_count": 3,
   "metadata": {},
   "outputs": [
    {
     "data": {
      "text/plain": [
       "(100,)"
      ]
     },
     "execution_count": 3,
     "metadata": {},
     "output_type": "execute_result"
    }
   ],
   "source": [
    "y.shape"
   ]
  },
  {
   "cell_type": "code",
   "execution_count": 4,
   "metadata": {},
   "outputs": [],
   "source": [
    "# 加载音频文件\n",
    "from scipy.io import wavfile\n",
    "def LoadWav(audio_file):\n",
    "    sample_rate, signal = wavfile.read(audio_file)\n",
    "    print('sample_rate:{}, len:{}'.format(sample_rate, len(signal)))\n",
    "    return sample_rate, signal"
   ]
  },
  {
   "cell_type": "code",
   "execution_count": 5,
   "metadata": {},
   "outputs": [
    {
     "name": "stdout",
     "output_type": "stream",
     "text": [
      "sample_rate:48000, len:12241920\n"
     ]
    }
   ],
   "source": [
    "sample_rate, signal = LoadWav(\"0016.wav\")"
   ]
  },
  {
   "cell_type": "code",
   "execution_count": 6,
   "metadata": {},
   "outputs": [],
   "source": [
    "import numpy as np\n",
    "\n",
    "# 获取 MAN 文件\n",
    "def GenerateManSeq(slotCnt, manFile, FRAME_RATE, BASE_RATE,\\\n",
    "        HIGH_VALUE):\n",
    "    manSeq = [0] * slotCnt\n",
    "    stotal = (FRAME_RATE / BASE_RATE) * slotCnt\n",
    "\n",
    "    for line in open(manFile):\n",
    "        sl = line.strip()\n",
    "        if sl == \"\" or sl[0] == \"#\":\n",
    "            continue\n",
    "        minute, second = map(int, sl.split(':'))\n",
    "        stime = minute * 60 + second\n",
    "\n",
    "        # round to an even number\n",
    "        pos = round(stime / stotal * slotCnt)\n",
    "\n",
    "        if 0 <= pos and pos < slotCnt:\n",
    "            manSeq[pos] = HIGH_VALUE\n",
    "    return np.array(manSeq)"
   ]
  },
  {
   "cell_type": "code",
   "execution_count": 7,
   "metadata": {},
   "outputs": [],
   "source": [
    "manSeq = GenerateManSeq(len(signal) // 240, \"0016.man\", 240, sample_rate, 1)"
   ]
  },
  {
   "cell_type": "code",
   "execution_count": 8,
   "metadata": {},
   "outputs": [],
   "source": [
    "# 生成编号\n",
    "preSeq = manSeq.copy()\n",
    "for i in range(1, len(preSeq)):\n",
    "    preSeq[i] += preSeq[i - 1]"
   ]
  },
  {
   "cell_type": "code",
   "execution_count": 9,
   "metadata": {},
   "outputs": [],
   "source": [
    "preSeq = preSeq[:51006]"
   ]
  },
  {
   "cell_type": "code",
   "execution_count": 10,
   "metadata": {},
   "outputs": [],
   "source": [
    "# 生成 onehot 编码\n",
    "def GetOneHot(preSeq):\n",
    "    \n",
    "    col_cnt = preSeq.max() + 1\n",
    "    oneHot = np.zeros((len(preSeq), col_cnt))\n",
    "    \n",
    "    # 计算 oneHot\n",
    "    for i in range(len(preSeq)):\n",
    "        oneHot[i][preSeq[i]] = 1\n",
    "    return oneHot"
   ]
  },
  {
   "cell_type": "code",
   "execution_count": 11,
   "metadata": {},
   "outputs": [],
   "source": [
    "oneHot = GetOneHot(preSeq)"
   ]
  },
  {
   "cell_type": "code",
   "execution_count": 12,
   "metadata": {},
   "outputs": [],
   "source": [
    "import numpy as np\n",
    "# np.set_printoptions(threshold=np.inf)\n",
    "\n",
    "import pylab as pl\n",
    "import matplotlib.pyplot as plt\n",
    "from scipy.fftpack import dct\n",
    "from scipy.io import wavfile\n",
    "# download opensouce audio in\n",
    "# http://www.voiptroubleshooter.com/open_speech/american.html\n",
    "def mfcc(sample_rate, signal):\n",
    "    # 一、预处理(Preprocess)\n",
    "    # 加载模型(load audio)\n",
    "    print('sample_rate:{}, len:{}'.format(sample_rate, len(signal)))\n",
    "\n",
    "    # signal = signal[: int(3.5 * sample_rate)]  # read first 3.5s data for example.\n",
    "\n",
    "    # n_frames = len(signal)\n",
    "    # time = np.arange(0, n_frames) * (1.0 / sample_rate)\n",
    "    # pl.subplot(1, 1, 1)\n",
    "    # pl.plot(time, signal)\n",
    "    # pl.xlabel('time (seconds)')\n",
    "    # pl.ylabel('amplitude')\n",
    "    # pl.title('Original audio')\n",
    "    # pl.show()\n",
    "\n",
    "    # 预加重(Pre-Emphasis)\n",
    "    # y(t) = x(t) - a * x(t - 1)\n",
    "    pre_emphasis = 0.97  # usually 0.95 or 0.97\n",
    "    emphasized_signal = np.append(\n",
    "        signal[0],\n",
    "        signal[1:] - pre_emphasis * signal[: -1]\n",
    "    )\n",
    "\n",
    "    # n_frames = len(emphasized_signal)\n",
    "    # time = np.arange(0, n_frames) * (1.0 / sample_rate)\n",
    "    # pl.subplot(1, 1, 1)\n",
    "    # pl.plot(time, emphasized_signal)\n",
    "    #\n",
    "    # pl.xlabel('time (seconds)')\n",
    "    # pl.ylabel('amplitude')\n",
    "    # pl.title('Pre-Emphasis')\n",
    "    # pl.show()\n",
    "\n",
    "    # 分帧(Framing)\n",
    "    # here, params set as follows:\n",
    "    # frame_size = 0.025(s), it menas 8kHz signal has 0.025 * 8000 = 200 samples.\n",
    "    # frame_stride = 0.01(s), 0.01 * 8000 = 80 samples.\n",
    "    # overlap = 0.015(s), 0.015 * 8000 = 125 samples.\n",
    "    frame_size, frame_stride, overlap = 0.025, 0.01, 0.015  # Convert from seconds to samples\n",
    "    frame_length, frame_step = frame_size * sample_rate, frame_stride * sample_rate\n",
    "    singal_length = len(emphasized_signal)\n",
    "    frame_length = int(round(frame_length))\n",
    "    frame_step = int(round(frame_step))\n",
    "    num_frames = int(np.ceil(\n",
    "        float(np.abs(singal_length - frame_length)) / frame_step\n",
    "    ))  # make sure we have at least 1 frame.\n",
    "\n",
    "    pad_singal_length = num_frames * frame_step + frame_length\n",
    "    z = np.zeros((pad_singal_length - singal_length))\n",
    "    # pad singal to make sure that all frames have equal number of\n",
    "    # samples without truncating any samples from the original signal.\n",
    "    pad_singal = np.append(emphasized_signal, z)\n",
    "\n",
    "    indices = np.tile(\n",
    "        np.arange(0, frame_length), (num_frames, 1)\n",
    "    ) + np.tile(\n",
    "        np.arange(0, num_frames * frame_step, frame_step),\n",
    "        (frame_length, 1)\n",
    "    ).T\n",
    "    frames = pad_singal[indices.astype(np.int32, copy=False)]\n",
    "\n",
    "    # 加窗(Window)\n",
    "    # W(n, a) = (1 - a) - a * cos(2 * pi * n / (N - 1))\n",
    "    # 0 <= n <= N, N is Window length, set a = 0.46 here.\n",
    "    window = np.hamming(frame_length)\n",
    "    # plt.plot(window)\n",
    "    # plt.xlabel(\"Samples\")\n",
    "    # plt.ylabel(\"Amplitude\")\n",
    "    # plt.title(\"Hamming window\")\n",
    "    # plt.show()\n",
    "\n",
    "    # n = np.arange(0, frame_length)\n",
    "    # window = 0.54 - 0.46 * np.cos(2.0 * np.pi * n) / (frame_length - 1)  # Explicit Implementation\n",
    "    frames *= window\n",
    "\n",
    "    # n_frames = len(pad_singal)\n",
    "    # time = np.arange(0, n_frames) * (1.0 / sample_rate)\n",
    "    # pl.subplot(1, 1, 1)\n",
    "    # pl.plot(time, pad_singal)\n",
    "    #\n",
    "    # pl.xlabel('time (seconds)')\n",
    "    # pl.ylabel('amplitude')\n",
    "    # pl.title('Framing')\n",
    "    # pl.show()\n",
    "\n",
    "    # 二、傅里叶变换(FFT)和功率谱(Power Spectrum)\n",
    "    # do an N-pont FFT on each frame to calculate the frequency spectrum,\n",
    "    # also called STFT(Short-time FT), where N is typically 256 or 512,\n",
    "    NFFT = 512\n",
    "    mag_frames = np.absolute((np.fft.rfft(frames, NFFT)))  # Magnitude of the FFT\n",
    "\n",
    "    # compute the power spectrum using the following eqution:\n",
    "    # P = |FFT(Xi)|^2 / N, Xi is ith frame of signal x.\n",
    "    pow_frames = ((1.0 / NFFT) * ((mag_frames) ** 2))  # Power Spectrum\n",
    "\n",
    "    # 三、滤波器组(Filter Banks)\n",
    "    # The final step to computing filter banks is applying triangular filters,\n",
    "    # typically 40 filters, nfilt = 40 on a Mel-scale to the power spectrum to extract frequency bands.\n",
    "    # convert frequency(f) and Mel(m) with equations:\n",
    "    # m = 2595 * log10(1 + f / 700)\n",
    "    # f = 700 * (10 ^ (m / 2595) - 1)\n",
    "    n_filters = 40\n",
    "    low_freq_mel = 0\n",
    "    high_freq_mel = (2595 * np.log10(1 + (sample_rate / 2) / 700))  # convert Hz to Mel\n",
    "    mel_points = np.linspace(low_freq_mel, high_freq_mel, n_filters + 2)  # need 40 filters banks, so need 42 points\n",
    "    hz_points = (700 * (10 ** (mel_points / 2595) - 1))  # convert Mel to Hz\n",
    "    # bin = sample_rate / NFFT  # fequency bin equation\n",
    "    bins = np.floor((NFFT + 1) * hz_points / sample_rate)  # hz_points / bin\n",
    "\n",
    "    fbank = np.zeros((n_filters, int(np.floor(NFFT / 2 + 1))))\n",
    "    for m in range(1, n_filters + 1):\n",
    "        f_m_minus = int(bins[m - 1])\n",
    "        f_m = int(bins[m])\n",
    "        f_m_plus = int(bins[m + 1])\n",
    "\n",
    "        for k in range(f_m_minus, f_m):\n",
    "            fbank[m - 1, k] = (k - bins[m - 1]) / (bins[m] - bins[m - 1])\n",
    "        for k in range(f_m, f_m_plus):\n",
    "            fbank[m - 1, k] = (bins[m + 1] - k) / (bins[m + 1] - bins[m])\n",
    "\n",
    "    # pl.plot(fbank.T)\n",
    "    # pl.subplot(1, 1, 1)\n",
    "    # pl.xlabel(\"Frequency\")\n",
    "    # pl.ylabel(\"time()\")\n",
    "    # pl.title(\"40 Filter Banks\")\n",
    "    # pl.show()\n",
    "\n",
    "    filter_banks = np.dot(pow_frames, fbank.T)\n",
    "    filter_banks = np.where(filter_banks == 0, np.finfo(float).eps, filter_banks)\n",
    "    filter_banks = 20 * np.log10(filter_banks)  # db\n",
    "\n",
    "    # pl.plot(filter_banks)\n",
    "    # pl.subplot(1, 1, 1)\n",
    "    # pl.xlabel(\"Frequency\")\n",
    "    # pl.ylabel(\"Time\")\n",
    "    # pl.title(\"Spectrogram\")\n",
    "    # pl.show()\n",
    "\n",
    "    # 四、梅尔频率倒谱系数(MFCCs)\n",
    "    # apply Discrete Cosine Transform (DCT) to decorrelate the filter bank coefficients\n",
    "    # and yield a compressed representation of the filter banks.\n",
    "    num_ceps = 12\n",
    "    mfcc = dct(filter_banks, type=2, axis=1, norm='ortho')[:, 2: (num_ceps + 2)]  # keep 3-14\n",
    "\n",
    "    # apply sinusoidal liftering to the MFCCs to de-emphasize higher MFCCs\n",
    "    (n_frames, n_coeff) = mfcc.shape\n",
    "    n = np.arange(n_coeff)\n",
    "    cep_lifter = 22\n",
    "    lift = 1 + (cep_lifter / 2) * np.sin(np.pi * n / cep_lifter)\n",
    "    mfcc *= lift\n",
    "    \n",
    "    mfcc -= (np.mean(mfcc, axis=0) + 1e-8)\n",
    "    return mfcc"
   ]
  },
  {
   "cell_type": "code",
   "execution_count": 13,
   "metadata": {},
   "outputs": [
    {
     "name": "stdout",
     "output_type": "stream",
     "text": [
      "sample_rate:48000, len:12241920\n"
     ]
    }
   ],
   "source": [
    "get_mfcc = mfcc(sample_rate, signal)"
   ]
  },
  {
   "cell_type": "code",
   "execution_count": 14,
   "metadata": {},
   "outputs": [
    {
     "data": {
      "text/plain": [
       "(51006, 12)"
      ]
     },
     "execution_count": 14,
     "metadata": {},
     "output_type": "execute_result"
    }
   ],
   "source": [
    "get_mfcc.shape"
   ]
  },
  {
   "cell_type": "code",
   "execution_count": 15,
   "metadata": {},
   "outputs": [
    {
     "data": {
      "text/plain": [
       "array([[1., 0., 0., 0., 0., 0., 0., 0.],\n",
       "       [1., 0., 0., 0., 0., 0., 0., 0.],\n",
       "       [1., 0., 0., 0., 0., 0., 0., 0.],\n",
       "       [1., 0., 0., 0., 0., 0., 0., 0.],\n",
       "       [1., 0., 0., 0., 0., 0., 0., 0.],\n",
       "       [1., 0., 0., 0., 0., 0., 0., 0.],\n",
       "       [1., 0., 0., 0., 0., 0., 0., 0.],\n",
       "       [1., 0., 0., 0., 0., 0., 0., 0.],\n",
       "       [1., 0., 0., 0., 0., 0., 0., 0.],\n",
       "       [1., 0., 0., 0., 0., 0., 0., 0.]])"
      ]
     },
     "execution_count": 15,
     "metadata": {},
     "output_type": "execute_result"
    }
   ],
   "source": [
    "oneHot[:10,:]"
   ]
  },
  {
   "cell_type": "code",
   "execution_count": 16,
   "metadata": {},
   "outputs": [],
   "source": [
    "X=get_mfcc\n",
    "y=preSeq.copy()\n",
    "for i in range(len(y)):\n",
    "    if(y[i] == 1):\n",
    "        y[i] = 5\n",
    "    if(y[i] == 2 or y[i] == 3):\n",
    "        y[i] = 6"
   ]
  },
  {
   "cell_type": "code",
   "execution_count": 17,
   "metadata": {},
   "outputs": [],
   "source": [
    "from sklearn.model_selection import train_test_split\n",
    "X_train, X_test, y_train, y_test = train_test_split(X, y, test_size= 0.90, random_state = 0)"
   ]
  },
  {
   "cell_type": "code",
   "execution_count": 18,
   "metadata": {},
   "outputs": [],
   "source": [
    "from sklearn.neighbors import KNeighborsClassifier\n",
    "clf = KNeighborsClassifier(n_neighbors=3)"
   ]
  },
  {
   "cell_type": "code",
   "execution_count": 19,
   "metadata": {},
   "outputs": [
    {
     "data": {
      "text/plain": [
       "KNeighborsClassifier(algorithm='auto', leaf_size=30, metric='minkowski',\n",
       "           metric_params=None, n_jobs=1, n_neighbors=3, p=2,\n",
       "           weights='uniform')"
      ]
     },
     "execution_count": 19,
     "metadata": {},
     "output_type": "execute_result"
    }
   ],
   "source": [
    "clf.fit(X_train, y_train)"
   ]
  },
  {
   "cell_type": "code",
   "execution_count": 20,
   "metadata": {},
   "outputs": [
    {
     "name": "stdout",
     "output_type": "stream",
     "text": [
      "acc:  0.6199407484860366\n"
     ]
    }
   ],
   "source": [
    "print(\"acc: \", clf.score(X_test, y_test))"
   ]
  },
  {
   "cell_type": "code",
   "execution_count": 21,
   "metadata": {},
   "outputs": [
    {
     "data": {
      "text/plain": [
       "5.190980392156863"
      ]
     },
     "execution_count": 21,
     "metadata": {},
     "output_type": "execute_result"
    }
   ],
   "source": [
    "y_train.mean()"
   ]
  },
  {
   "cell_type": "code",
   "execution_count": 22,
   "metadata": {},
   "outputs": [
    {
     "data": {
      "text/plain": [
       "5.2186642268984444"
      ]
     },
     "execution_count": 22,
     "metadata": {},
     "output_type": "execute_result"
    }
   ],
   "source": [
    "y_test.mean()"
   ]
  },
  {
   "cell_type": "code",
   "execution_count": 23,
   "metadata": {},
   "outputs": [],
   "source": [
    "from sklearn.metrics import confusion_matrix\n",
    "import seaborn as sns"
   ]
  },
  {
   "cell_type": "code",
   "execution_count": 24,
   "metadata": {},
   "outputs": [],
   "source": [
    "y_true = y_test\n",
    "y_pred = clf.predict(X_test)\n",
    "cm = confusion_matrix(y_true,y_pred)"
   ]
  },
  {
   "cell_type": "code",
   "execution_count": 25,
   "metadata": {},
   "outputs": [
    {
     "data": {
      "text/plain": [
       "<matplotlib.axes._subplots.AxesSubplot at 0x1d6a4c24e80>"
      ]
     },
     "execution_count": 25,
     "metadata": {},
     "output_type": "execute_result"
    },
    {
     "data": {
      "image/png": "[encoded data removed]",
      "text/plain": [
       "<Figure size 432x288 with 2 Axes>"
      ]
     },
     "metadata": {},
     "output_type": "display_data"
    }
   ],
   "source": [
    "import pandas as pd\n",
    "cm = pd.DataFrame(cm,columns=range(5),index=range(5))\n",
    "sns.heatmap(cm,cmap=\"YlGnBu_r\",fmt=\"d\",annot=True)"
   ]
  },
  {
   "cell_type": "code",
   "execution_count": 26,
   "metadata": {},
   "outputs": [],
   "source": [
    "from sklearn.svm import SVC\n",
    "svm = SVC(kernel='rbf', C=0.1, gamma=0.1).fit(X_train, y_train)"
   ]
  },
  {
   "cell_type": "code",
   "execution_count": 28,
   "metadata": {},
   "outputs": [
    {
     "data": {
      "text/plain": [
       "<matplotlib.axes._subplots.AxesSubplot at 0x1d6a4d7b6d8>"
      ]
     },
     "execution_count": 28,
     "metadata": {},
     "output_type": "execute_result"
    },
    {
     "data": {
      "image/png": "[encoded data removed]",
      "text/plain": [
       "<Figure size 432x288 with 2 Axes>"
      ]
     },
     "metadata": {},
     "output_type": "display_data"
    }
   ],
   "source": [
    "y_true = y_test\n",
    "y_pred = svm.predict(X_test)\n",
    "cm = confusion_matrix(y_true,y_pred)\n",
    "\n",
    "import pandas as pd\n",
    "cm = pd.DataFrame(cm,columns=range(5),index=range(5))\n",
    "sns.heatmap(cm,cmap=\"YlGnBu_r\",fmt=\"d\",annot=True)"
   ]
  },
  {
   "cell_type": "code",
   "execution_count": 34,
   "metadata": {},
   "outputs": [],
   "source": [
    "import numpy as np\n",
    "# np.set_printoptions(threshold=np.inf)\n",
    "\n",
    "import pylab as pl\n",
    "import matplotlib.pyplot as plt\n",
    "from scipy.fftpack import dct\n",
    "from scipy.io import wavfile\n",
    "# download opensouce audio in\n",
    "# http://www.voiptroubleshooter.com/open_speech/american.html\n",
    "\n",
    "def getfft(sample_rate, signal):\n",
    "    # 一、预处理(Preprocess)\n",
    "    # 加载模型(load audio)\n",
    "    print('sample_rate:{}, len:{}'.format(sample_rate, len(signal)))\n",
    "\n",
    "    # signal = signal[: int(3.5 * sample_rate)]  # read first 3.5s data for example.\n",
    "\n",
    "    # n_frames = len(signal)\n",
    "    # time = np.arange(0, n_frames) * (1.0 / sample_rate)\n",
    "    # pl.subplot(1, 1, 1)\n",
    "    # pl.plot(time, signal)\n",
    "    # pl.xlabel('time (seconds)')\n",
    "    # pl.ylabel('amplitude')\n",
    "    # pl.title('Original audio')\n",
    "    # pl.show()\n",
    "\n",
    "    # 预加重(Pre-Emphasis)\n",
    "    # y(t) = x(t) - a * x(t - 1)\n",
    "    pre_emphasis = 0.97  # usually 0.95 or 0.97\n",
    "    emphasized_signal = np.append(\n",
    "        signal[0],\n",
    "        signal[1:] - pre_emphasis * signal[: -1]\n",
    "    )\n",
    "\n",
    "    # n_frames = len(emphasized_signal)\n",
    "    # time = np.arange(0, n_frames) * (1.0 / sample_rate)\n",
    "    # pl.subplot(1, 1, 1)\n",
    "    # pl.plot(time, emphasized_signal)\n",
    "    #\n",
    "    # pl.xlabel('time (seconds)')\n",
    "    # pl.ylabel('amplitude')\n",
    "    # pl.title('Pre-Emphasis')\n",
    "    # pl.show()\n",
    "\n",
    "    # 分帧(Framing)\n",
    "    # here, params set as follows:\n",
    "    # frame_size = 0.025(s), it menas 8kHz signal has 0.025 * 8000 = 200 samples.\n",
    "    # frame_stride = 0.01(s), 0.01 * 8000 = 80 samples.\n",
    "    # overlap = 0.015(s), 0.015 * 8000 = 125 samples.\n",
    "    frame_size, frame_stride, overlap = 0.025, 0.01, 0.015  # Convert from seconds to samples\n",
    "    frame_length, frame_step = frame_size * sample_rate, frame_stride * sample_rate\n",
    "    singal_length = len(emphasized_signal)\n",
    "    frame_length = int(round(frame_length))\n",
    "    frame_step = int(round(frame_step))\n",
    "    num_frames = int(np.ceil(\n",
    "        float(np.abs(singal_length - frame_length)) / frame_step\n",
    "    ))  # make sure we have at least 1 frame.\n",
    "\n",
    "    pad_singal_length = num_frames * frame_step + frame_length\n",
    "    z = np.zeros((pad_singal_length - singal_length))\n",
    "    # pad singal to make sure that all frames have equal number of\n",
    "    # samples without truncating any samples from the original signal.\n",
    "    pad_singal = np.append(emphasized_signal, z)\n",
    "\n",
    "    indices = np.tile(\n",
    "        np.arange(0, frame_length), (num_frames, 1)\n",
    "    ) + np.tile(\n",
    "        np.arange(0, num_frames * frame_step, frame_step),\n",
    "        (frame_length, 1)\n",
    "    ).T\n",
    "    frames = pad_singal[indices.astype(np.int32, copy=False)]\n",
    "\n",
    "    # 加窗(Window)\n",
    "    # W(n, a) = (1 - a) - a * cos(2 * pi * n / (N - 1))\n",
    "    # 0 <= n <= N, N is Window length, set a = 0.46 here.\n",
    "    window = np.hamming(frame_length)\n",
    "    # plt.plot(window)\n",
    "    # plt.xlabel(\"Samples\")\n",
    "    # plt.ylabel(\"Amplitude\")\n",
    "    # plt.title(\"Hamming window\")\n",
    "    # plt.show()\n",
    "\n",
    "    # n = np.arange(0, frame_length)\n",
    "    # window = 0.54 - 0.46 * np.cos(2.0 * np.pi * n) / (frame_length - 1)  # Explicit Implementation\n",
    "    frames *= window\n",
    "\n",
    "    # n_frames = len(pad_singal)\n",
    "    # time = np.arange(0, n_frames) * (1.0 / sample_rate)\n",
    "    # pl.subplot(1, 1, 1)\n",
    "    # pl.plot(time, pad_singal)\n",
    "    #\n",
    "    # pl.xlabel('time (seconds)')\n",
    "    # pl.ylabel('amplitude')\n",
    "    # pl.title('Framing')\n",
    "    # pl.show()\n",
    "\n",
    "    # 二、傅里叶变换(FFT)和功率谱(Power Spectrum)\n",
    "    # do an N-pont FFT on each frame to calculate the frequency spectrum,\n",
    "    # also called STFT(Short-time FT), where N is typically 256 or 512,\n",
    "    NFFT = 16384\n",
    "    mag_frames = np.absolute((np.fft.rfft(frames, NFFT)))  # Magnitude of the FFT\n",
    "\n",
    "    # compute the power spectrum using the following eqution:\n",
    "    # P = |FFT(Xi)|^2 / N, Xi is ith frame of signal x.\n",
    "    pow_frames = ((1.0 / NFFT) * ((mag_frames) ** 2))  # Power Spectrum\n",
    "    return pow_frames"
   ]
  },
  {
   "cell_type": "code",
   "execution_count": 35,
   "metadata": {},
   "outputs": [
    {
     "name": "stdout",
     "output_type": "stream",
     "text": [
      "sample_rate:48000, len:12241920\n"
     ]
    }
   ],
   "source": [
    "fft_ans = getfft(sample_rate, signal)"
   ]
  },
  {
   "cell_type": "code",
   "execution_count": 36,
   "metadata": {},
   "outputs": [
    {
     "data": {
      "text/plain": [
       "(51006, 8193)"
      ]
     },
     "execution_count": 36,
     "metadata": {},
     "output_type": "execute_result"
    }
   ],
   "source": [
    "fft_ans.shape"
   ]
  },
  {
   "cell_type": "code",
   "execution_count": null,
   "metadata": {},
   "outputs": [],
   "source": [
    "sns.heatmap(fft_ans)\n",
    "plt.show()"
   ]
  },
  {
   "cell_type": "code",
   "execution_count": null,
   "metadata": {},
   "outputs": [],
   "source": []
  }
 ],
 "metadata": {
  "kernelspec": {
   "display_name": "Python 3.8.10 64-bit (microsoft store)",
   "language": "python",
   "name": "python3"
  },
  "language_info": {
   "codemirror_mode": {
    "name": "ipython",
    "version": 3
   },
   "file_extension": ".py",
   "mimetype": "text/x-python",
   "name": "python",
   "nbconvert_exporter": "python",
   "pygments_lexer": "ipython3",
   "version": "3.8.10"
  },
  "vscode": {
   "interpreter": {
    "hash": "23503356b4591b150c243b8bf5f373d6b57f7db3a6221fbe8a097f600267f0d9"
   }
  }
 },
 "nbformat": 4,
 "nbformat_minor": 2
}
